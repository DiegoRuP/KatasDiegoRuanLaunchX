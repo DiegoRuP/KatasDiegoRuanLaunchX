{
  "cells": [
    {
      "cell_type": "markdown",
      "metadata": {},
      "source": [
        "## Escribir declaraciones `if`, `else`, y `elif`\n",
        "\n",
        "\n",
        "Para este ejercicio, escribirás una lógica condicional que imprima una advertencia si un asteroide se acerca a la Tierra demasiado rápido. La velocidad del asteroide varía dependiendo de lo cerca que esté del sol, y cualquier velocidad superior a 25 kilómetros por segundo (km/s) merece una advertencia.\n",
        "\n",
        "Un asteroide se acerca, y viaja a una velocidad de 49 km/s."
      ]
    },
    {
      "cell_type": "code",
      "execution_count": 4,
      "metadata": {},
      "outputs": [
        {
          "name": "stdout",
          "output_type": "stream",
          "text": [
            "Advertencia, asteroide acercandose a 49 km/s!\n"
          ]
        }
      ],
      "source": [
        "velAsteroide = 49\n",
        "\n",
        "if velAsteroide>25:\n",
        "    print(\"Advertencia, asteroide acercandose a \"+ str(velAsteroide), \"km/s!\")\n",
        "# Agregue las instrucciones que se ejecutarán si la expresión de prueba es true o false."
      ]
    },
    {
      "cell_type": "markdown",
      "metadata": {},
      "source": [
        "Si un asteroide entra en la atmósfera de la Tierra a una velocidad mayor o igual a 20 km/s, a veces produce un rayo de luz que se puede ver desde la Tierra. Escribe la lógica condicional que usa declaraciones `if`, `else`, y `elif` para alertar a las personas de todo el mundo que deben buscar un asteroide en el cielo. ¡Hay uno que se dirige a la tierra ahora a una velocidad de 19 km/s!"
      ]
    },
    {
      "cell_type": "code",
      "execution_count": 5,
      "metadata": {},
      "outputs": [
        {
          "name": "stdout",
          "output_type": "stream",
          "text": [
            "No hay nada en el cielo por ahora\n"
          ]
        }
      ],
      "source": [
        "velAsteroide = 19\n",
        "\n",
        "if velAsteroide>20:\n",
        "    print(\"Mira al cielo! Un rayo de luz\")\n",
        "elif velAsteroide == 20:\n",
        "    print(\"Mira al cielo! Un rayo de luz\")\n",
        "else: \n",
        "    print(\"No hay nada en el cielo por ahora\")"
      ]
    },
    {
      "cell_type": "code",
      "execution_count": 6,
      "metadata": {},
      "outputs": [
        {
          "name": "stdout",
          "output_type": "stream",
          "text": [
            "Advertencia, asteroide acercandose a 26 km/s!\n"
          ]
        }
      ],
      "source": [
        "velAsteroide = 26\n",
        "tamAsteroide = 40\n",
        "if velAsteroide > 25 and tamAsteroide > 25:\n",
        "    print(\"Advertencia, asteroide acercandose a \"+ str(velAsteroide), \"km/s!\")\n",
        "elif velAsteroide >= 20:\n",
        "    print(\"Mira al cielo! Un rayo de luz\")\n",
        "elif tamAsteroide < 25:\n",
        "    print(\"No hay nada en el cielo por ahora\")\n",
        "else:\n",
        "    print(\"No hay nada en el cielo por ahora\")"
      ]
    }
  ],
  "metadata": {
    "interpreter": {
      "hash": "916dbcbb3f70747c44a77c7bcd40155683ae19c65e1c03b4aa3499c5328201f1"
    },
    "kernel_info": {
      "name": "conda-env-py37_default-py"
    },
    "kernelspec": {
      "display_name": "py37_default",
      "language": "python",
      "name": "python3"
    },
    "language_info": {
      "codemirror_mode": {
        "name": "ipython",
        "version": 3
      },
      "file_extension": ".py",
      "mimetype": "text/x-python",
      "name": "python",
      "nbconvert_exporter": "python",
      "pygments_lexer": "ipython3",
      "version": "3.10.2"
    },
    "nteract": {
      "version": "nteract-front-end@1.0.0"
    },
    "orig_nbformat": 4
  },
  "nbformat": 4,
  "nbformat_minor": 2
}
